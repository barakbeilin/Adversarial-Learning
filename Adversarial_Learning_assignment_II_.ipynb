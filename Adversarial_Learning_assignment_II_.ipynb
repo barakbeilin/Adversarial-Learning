{
  "nbformat": 4,
  "nbformat_minor": 0,
  "metadata": {
    "colab": {
      "name": "Adversarial Learning - assignment II .ipynb",
      "provenance": [],
      "authorship_tag": "ABX9TyOy6i+mVsTzPUr5NuRxuvla",
      "include_colab_link": true
    },
    "kernelspec": {
      "name": "python3",
      "display_name": "Python 3"
    },
    "language_info": {
      "name": "python"
    },
    "accelerator": "GPU",
    "widgets": {
      "application/vnd.jupyter.widget-state+json": {
        "27d36506b70740da8b3624ce92c46dcb": {
          "model_module": "@jupyter-widgets/controls",
          "model_name": "HBoxModel",
          "state": {
            "_view_name": "HBoxView",
            "_dom_classes": [],
            "_model_name": "HBoxModel",
            "_view_module": "@jupyter-widgets/controls",
            "_model_module_version": "1.5.0",
            "_view_count": null,
            "_view_module_version": "1.5.0",
            "box_style": "",
            "layout": "IPY_MODEL_90bdbf32146a4bb39dd7f6dfdaefeb51",
            "_model_module": "@jupyter-widgets/controls",
            "children": [
              "IPY_MODEL_d806b3a264d84e1eaa30a83580fc4d82",
              "IPY_MODEL_d25eca6ca7eb4effbf97339970ad5f51"
            ]
          }
        },
        "90bdbf32146a4bb39dd7f6dfdaefeb51": {
          "model_module": "@jupyter-widgets/base",
          "model_name": "LayoutModel",
          "state": {
            "_view_name": "LayoutView",
            "grid_template_rows": null,
            "right": null,
            "justify_content": null,
            "_view_module": "@jupyter-widgets/base",
            "overflow": null,
            "_model_module_version": "1.2.0",
            "_view_count": null,
            "flex_flow": null,
            "width": null,
            "min_width": null,
            "border": null,
            "align_items": null,
            "bottom": null,
            "_model_module": "@jupyter-widgets/base",
            "top": null,
            "grid_column": null,
            "overflow_y": null,
            "overflow_x": null,
            "grid_auto_flow": null,
            "grid_area": null,
            "grid_template_columns": null,
            "flex": null,
            "_model_name": "LayoutModel",
            "justify_items": null,
            "grid_row": null,
            "max_height": null,
            "align_content": null,
            "visibility": null,
            "align_self": null,
            "height": null,
            "min_height": null,
            "padding": null,
            "grid_auto_rows": null,
            "grid_gap": null,
            "max_width": null,
            "order": null,
            "_view_module_version": "1.2.0",
            "grid_template_areas": null,
            "object_position": null,
            "object_fit": null,
            "grid_auto_columns": null,
            "margin": null,
            "display": null,
            "left": null
          }
        },
        "d806b3a264d84e1eaa30a83580fc4d82": {
          "model_module": "@jupyter-widgets/controls",
          "model_name": "FloatProgressModel",
          "state": {
            "_view_name": "ProgressView",
            "style": "IPY_MODEL_7495e118478b4cf78223a61b4e032921",
            "_dom_classes": [],
            "description": "",
            "_model_name": "FloatProgressModel",
            "bar_style": "success",
            "max": 9912422,
            "_view_module": "@jupyter-widgets/controls",
            "_model_module_version": "1.5.0",
            "value": 9912422,
            "_view_count": null,
            "_view_module_version": "1.5.0",
            "orientation": "horizontal",
            "min": 0,
            "description_tooltip": null,
            "_model_module": "@jupyter-widgets/controls",
            "layout": "IPY_MODEL_8d8e16b44e5a4f539fb6a6b34fdcf72b"
          }
        },
        "d25eca6ca7eb4effbf97339970ad5f51": {
          "model_module": "@jupyter-widgets/controls",
          "model_name": "HTMLModel",
          "state": {
            "_view_name": "HTMLView",
            "style": "IPY_MODEL_a460f05237294f42adbd1bb4e40cc667",
            "_dom_classes": [],
            "description": "",
            "_model_name": "HTMLModel",
            "placeholder": "​",
            "_view_module": "@jupyter-widgets/controls",
            "_model_module_version": "1.5.0",
            "value": " 9913344/? [00:02&lt;00:00, 4422751.51it/s]",
            "_view_count": null,
            "_view_module_version": "1.5.0",
            "description_tooltip": null,
            "_model_module": "@jupyter-widgets/controls",
            "layout": "IPY_MODEL_eafe46cb4d014d86a64f6451fa2e252e"
          }
        },
        "7495e118478b4cf78223a61b4e032921": {
          "model_module": "@jupyter-widgets/controls",
          "model_name": "ProgressStyleModel",
          "state": {
            "_view_name": "StyleView",
            "_model_name": "ProgressStyleModel",
            "description_width": "initial",
            "_view_module": "@jupyter-widgets/base",
            "_model_module_version": "1.5.0",
            "_view_count": null,
            "_view_module_version": "1.2.0",
            "bar_color": null,
            "_model_module": "@jupyter-widgets/controls"
          }
        },
        "8d8e16b44e5a4f539fb6a6b34fdcf72b": {
          "model_module": "@jupyter-widgets/base",
          "model_name": "LayoutModel",
          "state": {
            "_view_name": "LayoutView",
            "grid_template_rows": null,
            "right": null,
            "justify_content": null,
            "_view_module": "@jupyter-widgets/base",
            "overflow": null,
            "_model_module_version": "1.2.0",
            "_view_count": null,
            "flex_flow": null,
            "width": null,
            "min_width": null,
            "border": null,
            "align_items": null,
            "bottom": null,
            "_model_module": "@jupyter-widgets/base",
            "top": null,
            "grid_column": null,
            "overflow_y": null,
            "overflow_x": null,
            "grid_auto_flow": null,
            "grid_area": null,
            "grid_template_columns": null,
            "flex": null,
            "_model_name": "LayoutModel",
            "justify_items": null,
            "grid_row": null,
            "max_height": null,
            "align_content": null,
            "visibility": null,
            "align_self": null,
            "height": null,
            "min_height": null,
            "padding": null,
            "grid_auto_rows": null,
            "grid_gap": null,
            "max_width": null,
            "order": null,
            "_view_module_version": "1.2.0",
            "grid_template_areas": null,
            "object_position": null,
            "object_fit": null,
            "grid_auto_columns": null,
            "margin": null,
            "display": null,
            "left": null
          }
        },
        "a460f05237294f42adbd1bb4e40cc667": {
          "model_module": "@jupyter-widgets/controls",
          "model_name": "DescriptionStyleModel",
          "state": {
            "_view_name": "StyleView",
            "_model_name": "DescriptionStyleModel",
            "description_width": "",
            "_view_module": "@jupyter-widgets/base",
            "_model_module_version": "1.5.0",
            "_view_count": null,
            "_view_module_version": "1.2.0",
            "_model_module": "@jupyter-widgets/controls"
          }
        },
        "eafe46cb4d014d86a64f6451fa2e252e": {
          "model_module": "@jupyter-widgets/base",
          "model_name": "LayoutModel",
          "state": {
            "_view_name": "LayoutView",
            "grid_template_rows": null,
            "right": null,
            "justify_content": null,
            "_view_module": "@jupyter-widgets/base",
            "overflow": null,
            "_model_module_version": "1.2.0",
            "_view_count": null,
            "flex_flow": null,
            "width": null,
            "min_width": null,
            "border": null,
            "align_items": null,
            "bottom": null,
            "_model_module": "@jupyter-widgets/base",
            "top": null,
            "grid_column": null,
            "overflow_y": null,
            "overflow_x": null,
            "grid_auto_flow": null,
            "grid_area": null,
            "grid_template_columns": null,
            "flex": null,
            "_model_name": "LayoutModel",
            "justify_items": null,
            "grid_row": null,
            "max_height": null,
            "align_content": null,
            "visibility": null,
            "align_self": null,
            "height": null,
            "min_height": null,
            "padding": null,
            "grid_auto_rows": null,
            "grid_gap": null,
            "max_width": null,
            "order": null,
            "_view_module_version": "1.2.0",
            "grid_template_areas": null,
            "object_position": null,
            "object_fit": null,
            "grid_auto_columns": null,
            "margin": null,
            "display": null,
            "left": null
          }
        },
        "8412d3e2336f4e119a3fe990c8014f66": {
          "model_module": "@jupyter-widgets/controls",
          "model_name": "HBoxModel",
          "state": {
            "_view_name": "HBoxView",
            "_dom_classes": [],
            "_model_name": "HBoxModel",
            "_view_module": "@jupyter-widgets/controls",
            "_model_module_version": "1.5.0",
            "_view_count": null,
            "_view_module_version": "1.5.0",
            "box_style": "",
            "layout": "IPY_MODEL_795336908be04d74a08640d9714afae3",
            "_model_module": "@jupyter-widgets/controls",
            "children": [
              "IPY_MODEL_d4a58549f1074f7cb2c2061da25804b7",
              "IPY_MODEL_585a37f0d8df48d297a2bf17e6816c11"
            ]
          }
        },
        "795336908be04d74a08640d9714afae3": {
          "model_module": "@jupyter-widgets/base",
          "model_name": "LayoutModel",
          "state": {
            "_view_name": "LayoutView",
            "grid_template_rows": null,
            "right": null,
            "justify_content": null,
            "_view_module": "@jupyter-widgets/base",
            "overflow": null,
            "_model_module_version": "1.2.0",
            "_view_count": null,
            "flex_flow": null,
            "width": null,
            "min_width": null,
            "border": null,
            "align_items": null,
            "bottom": null,
            "_model_module": "@jupyter-widgets/base",
            "top": null,
            "grid_column": null,
            "overflow_y": null,
            "overflow_x": null,
            "grid_auto_flow": null,
            "grid_area": null,
            "grid_template_columns": null,
            "flex": null,
            "_model_name": "LayoutModel",
            "justify_items": null,
            "grid_row": null,
            "max_height": null,
            "align_content": null,
            "visibility": null,
            "align_self": null,
            "height": null,
            "min_height": null,
            "padding": null,
            "grid_auto_rows": null,
            "grid_gap": null,
            "max_width": null,
            "order": null,
            "_view_module_version": "1.2.0",
            "grid_template_areas": null,
            "object_position": null,
            "object_fit": null,
            "grid_auto_columns": null,
            "margin": null,
            "display": null,
            "left": null
          }
        },
        "d4a58549f1074f7cb2c2061da25804b7": {
          "model_module": "@jupyter-widgets/controls",
          "model_name": "FloatProgressModel",
          "state": {
            "_view_name": "ProgressView",
            "style": "IPY_MODEL_52cdde52e9e346359703304f9c0ab782",
            "_dom_classes": [],
            "description": "",
            "_model_name": "FloatProgressModel",
            "bar_style": "success",
            "max": 28881,
            "_view_module": "@jupyter-widgets/controls",
            "_model_module_version": "1.5.0",
            "value": 28881,
            "_view_count": null,
            "_view_module_version": "1.5.0",
            "orientation": "horizontal",
            "min": 0,
            "description_tooltip": null,
            "_model_module": "@jupyter-widgets/controls",
            "layout": "IPY_MODEL_7095ca2aafa64f2d8d4160406811f980"
          }
        },
        "585a37f0d8df48d297a2bf17e6816c11": {
          "model_module": "@jupyter-widgets/controls",
          "model_name": "HTMLModel",
          "state": {
            "_view_name": "HTMLView",
            "style": "IPY_MODEL_c0b40d09b5da477397b23e46b93712e6",
            "_dom_classes": [],
            "description": "",
            "_model_name": "HTMLModel",
            "placeholder": "​",
            "_view_module": "@jupyter-widgets/controls",
            "_model_module_version": "1.5.0",
            "value": " 29696/? [00:01&lt;00:00, 23422.75it/s]",
            "_view_count": null,
            "_view_module_version": "1.5.0",
            "description_tooltip": null,
            "_model_module": "@jupyter-widgets/controls",
            "layout": "IPY_MODEL_40b2ff87e82c424c8df8e44ad5119e67"
          }
        },
        "52cdde52e9e346359703304f9c0ab782": {
          "model_module": "@jupyter-widgets/controls",
          "model_name": "ProgressStyleModel",
          "state": {
            "_view_name": "StyleView",
            "_model_name": "ProgressStyleModel",
            "description_width": "initial",
            "_view_module": "@jupyter-widgets/base",
            "_model_module_version": "1.5.0",
            "_view_count": null,
            "_view_module_version": "1.2.0",
            "bar_color": null,
            "_model_module": "@jupyter-widgets/controls"
          }
        },
        "7095ca2aafa64f2d8d4160406811f980": {
          "model_module": "@jupyter-widgets/base",
          "model_name": "LayoutModel",
          "state": {
            "_view_name": "LayoutView",
            "grid_template_rows": null,
            "right": null,
            "justify_content": null,
            "_view_module": "@jupyter-widgets/base",
            "overflow": null,
            "_model_module_version": "1.2.0",
            "_view_count": null,
            "flex_flow": null,
            "width": null,
            "min_width": null,
            "border": null,
            "align_items": null,
            "bottom": null,
            "_model_module": "@jupyter-widgets/base",
            "top": null,
            "grid_column": null,
            "overflow_y": null,
            "overflow_x": null,
            "grid_auto_flow": null,
            "grid_area": null,
            "grid_template_columns": null,
            "flex": null,
            "_model_name": "LayoutModel",
            "justify_items": null,
            "grid_row": null,
            "max_height": null,
            "align_content": null,
            "visibility": null,
            "align_self": null,
            "height": null,
            "min_height": null,
            "padding": null,
            "grid_auto_rows": null,
            "grid_gap": null,
            "max_width": null,
            "order": null,
            "_view_module_version": "1.2.0",
            "grid_template_areas": null,
            "object_position": null,
            "object_fit": null,
            "grid_auto_columns": null,
            "margin": null,
            "display": null,
            "left": null
          }
        },
        "c0b40d09b5da477397b23e46b93712e6": {
          "model_module": "@jupyter-widgets/controls",
          "model_name": "DescriptionStyleModel",
          "state": {
            "_view_name": "StyleView",
            "_model_name": "DescriptionStyleModel",
            "description_width": "",
            "_view_module": "@jupyter-widgets/base",
            "_model_module_version": "1.5.0",
            "_view_count": null,
            "_view_module_version": "1.2.0",
            "_model_module": "@jupyter-widgets/controls"
          }
        },
        "40b2ff87e82c424c8df8e44ad5119e67": {
          "model_module": "@jupyter-widgets/base",
          "model_name": "LayoutModel",
          "state": {
            "_view_name": "LayoutView",
            "grid_template_rows": null,
            "right": null,
            "justify_content": null,
            "_view_module": "@jupyter-widgets/base",
            "overflow": null,
            "_model_module_version": "1.2.0",
            "_view_count": null,
            "flex_flow": null,
            "width": null,
            "min_width": null,
            "border": null,
            "align_items": null,
            "bottom": null,
            "_model_module": "@jupyter-widgets/base",
            "top": null,
            "grid_column": null,
            "overflow_y": null,
            "overflow_x": null,
            "grid_auto_flow": null,
            "grid_area": null,
            "grid_template_columns": null,
            "flex": null,
            "_model_name": "LayoutModel",
            "justify_items": null,
            "grid_row": null,
            "max_height": null,
            "align_content": null,
            "visibility": null,
            "align_self": null,
            "height": null,
            "min_height": null,
            "padding": null,
            "grid_auto_rows": null,
            "grid_gap": null,
            "max_width": null,
            "order": null,
            "_view_module_version": "1.2.0",
            "grid_template_areas": null,
            "object_position": null,
            "object_fit": null,
            "grid_auto_columns": null,
            "margin": null,
            "display": null,
            "left": null
          }
        },
        "95deebc55fd1417cacdebcc1b100f912": {
          "model_module": "@jupyter-widgets/controls",
          "model_name": "HBoxModel",
          "state": {
            "_view_name": "HBoxView",
            "_dom_classes": [],
            "_model_name": "HBoxModel",
            "_view_module": "@jupyter-widgets/controls",
            "_model_module_version": "1.5.0",
            "_view_count": null,
            "_view_module_version": "1.5.0",
            "box_style": "",
            "layout": "IPY_MODEL_12be0da992564e14965f5fdf13091628",
            "_model_module": "@jupyter-widgets/controls",
            "children": [
              "IPY_MODEL_d1e270776b0348ed80e847d4a2fd536f",
              "IPY_MODEL_d745286583984ef39ced370c56af1172"
            ]
          }
        },
        "12be0da992564e14965f5fdf13091628": {
          "model_module": "@jupyter-widgets/base",
          "model_name": "LayoutModel",
          "state": {
            "_view_name": "LayoutView",
            "grid_template_rows": null,
            "right": null,
            "justify_content": null,
            "_view_module": "@jupyter-widgets/base",
            "overflow": null,
            "_model_module_version": "1.2.0",
            "_view_count": null,
            "flex_flow": null,
            "width": null,
            "min_width": null,
            "border": null,
            "align_items": null,
            "bottom": null,
            "_model_module": "@jupyter-widgets/base",
            "top": null,
            "grid_column": null,
            "overflow_y": null,
            "overflow_x": null,
            "grid_auto_flow": null,
            "grid_area": null,
            "grid_template_columns": null,
            "flex": null,
            "_model_name": "LayoutModel",
            "justify_items": null,
            "grid_row": null,
            "max_height": null,
            "align_content": null,
            "visibility": null,
            "align_self": null,
            "height": null,
            "min_height": null,
            "padding": null,
            "grid_auto_rows": null,
            "grid_gap": null,
            "max_width": null,
            "order": null,
            "_view_module_version": "1.2.0",
            "grid_template_areas": null,
            "object_position": null,
            "object_fit": null,
            "grid_auto_columns": null,
            "margin": null,
            "display": null,
            "left": null
          }
        },
        "d1e270776b0348ed80e847d4a2fd536f": {
          "model_module": "@jupyter-widgets/controls",
          "model_name": "FloatProgressModel",
          "state": {
            "_view_name": "ProgressView",
            "style": "IPY_MODEL_eb973acf988243218066fb3eee571dcd",
            "_dom_classes": [],
            "description": "",
            "_model_name": "FloatProgressModel",
            "bar_style": "success",
            "max": 1648877,
            "_view_module": "@jupyter-widgets/controls",
            "_model_module_version": "1.5.0",
            "value": 1648877,
            "_view_count": null,
            "_view_module_version": "1.5.0",
            "orientation": "horizontal",
            "min": 0,
            "description_tooltip": null,
            "_model_module": "@jupyter-widgets/controls",
            "layout": "IPY_MODEL_be95b8b00e044595bcdb1c30c577adbd"
          }
        },
        "d745286583984ef39ced370c56af1172": {
          "model_module": "@jupyter-widgets/controls",
          "model_name": "HTMLModel",
          "state": {
            "_view_name": "HTMLView",
            "style": "IPY_MODEL_9261a929f3cf4cdbb34fbed61ec311b4",
            "_dom_classes": [],
            "description": "",
            "_model_name": "HTMLModel",
            "placeholder": "​",
            "_view_module": "@jupyter-widgets/controls",
            "_model_module_version": "1.5.0",
            "value": " 1649664/? [00:00&lt;00:00, 3099481.36it/s]",
            "_view_count": null,
            "_view_module_version": "1.5.0",
            "description_tooltip": null,
            "_model_module": "@jupyter-widgets/controls",
            "layout": "IPY_MODEL_754bf76fbf78468ebfd6ebd9d5d22e03"
          }
        },
        "eb973acf988243218066fb3eee571dcd": {
          "model_module": "@jupyter-widgets/controls",
          "model_name": "ProgressStyleModel",
          "state": {
            "_view_name": "StyleView",
            "_model_name": "ProgressStyleModel",
            "description_width": "initial",
            "_view_module": "@jupyter-widgets/base",
            "_model_module_version": "1.5.0",
            "_view_count": null,
            "_view_module_version": "1.2.0",
            "bar_color": null,
            "_model_module": "@jupyter-widgets/controls"
          }
        },
        "be95b8b00e044595bcdb1c30c577adbd": {
          "model_module": "@jupyter-widgets/base",
          "model_name": "LayoutModel",
          "state": {
            "_view_name": "LayoutView",
            "grid_template_rows": null,
            "right": null,
            "justify_content": null,
            "_view_module": "@jupyter-widgets/base",
            "overflow": null,
            "_model_module_version": "1.2.0",
            "_view_count": null,
            "flex_flow": null,
            "width": null,
            "min_width": null,
            "border": null,
            "align_items": null,
            "bottom": null,
            "_model_module": "@jupyter-widgets/base",
            "top": null,
            "grid_column": null,
            "overflow_y": null,
            "overflow_x": null,
            "grid_auto_flow": null,
            "grid_area": null,
            "grid_template_columns": null,
            "flex": null,
            "_model_name": "LayoutModel",
            "justify_items": null,
            "grid_row": null,
            "max_height": null,
            "align_content": null,
            "visibility": null,
            "align_self": null,
            "height": null,
            "min_height": null,
            "padding": null,
            "grid_auto_rows": null,
            "grid_gap": null,
            "max_width": null,
            "order": null,
            "_view_module_version": "1.2.0",
            "grid_template_areas": null,
            "object_position": null,
            "object_fit": null,
            "grid_auto_columns": null,
            "margin": null,
            "display": null,
            "left": null
          }
        },
        "9261a929f3cf4cdbb34fbed61ec311b4": {
          "model_module": "@jupyter-widgets/controls",
          "model_name": "DescriptionStyleModel",
          "state": {
            "_view_name": "StyleView",
            "_model_name": "DescriptionStyleModel",
            "description_width": "",
            "_view_module": "@jupyter-widgets/base",
            "_model_module_version": "1.5.0",
            "_view_count": null,
            "_view_module_version": "1.2.0",
            "_model_module": "@jupyter-widgets/controls"
          }
        },
        "754bf76fbf78468ebfd6ebd9d5d22e03": {
          "model_module": "@jupyter-widgets/base",
          "model_name": "LayoutModel",
          "state": {
            "_view_name": "LayoutView",
            "grid_template_rows": null,
            "right": null,
            "justify_content": null,
            "_view_module": "@jupyter-widgets/base",
            "overflow": null,
            "_model_module_version": "1.2.0",
            "_view_count": null,
            "flex_flow": null,
            "width": null,
            "min_width": null,
            "border": null,
            "align_items": null,
            "bottom": null,
            "_model_module": "@jupyter-widgets/base",
            "top": null,
            "grid_column": null,
            "overflow_y": null,
            "overflow_x": null,
            "grid_auto_flow": null,
            "grid_area": null,
            "grid_template_columns": null,
            "flex": null,
            "_model_name": "LayoutModel",
            "justify_items": null,
            "grid_row": null,
            "max_height": null,
            "align_content": null,
            "visibility": null,
            "align_self": null,
            "height": null,
            "min_height": null,
            "padding": null,
            "grid_auto_rows": null,
            "grid_gap": null,
            "max_width": null,
            "order": null,
            "_view_module_version": "1.2.0",
            "grid_template_areas": null,
            "object_position": null,
            "object_fit": null,
            "grid_auto_columns": null,
            "margin": null,
            "display": null,
            "left": null
          }
        },
        "032d5d1e3b3d47be8220935200a76087": {
          "model_module": "@jupyter-widgets/controls",
          "model_name": "HBoxModel",
          "state": {
            "_view_name": "HBoxView",
            "_dom_classes": [],
            "_model_name": "HBoxModel",
            "_view_module": "@jupyter-widgets/controls",
            "_model_module_version": "1.5.0",
            "_view_count": null,
            "_view_module_version": "1.5.0",
            "box_style": "",
            "layout": "IPY_MODEL_4c02aaa9a5c24bfa81aab9c14b47ace5",
            "_model_module": "@jupyter-widgets/controls",
            "children": [
              "IPY_MODEL_6d19f35abf554294b8c8c16e8cd41e4c",
              "IPY_MODEL_c131dae73ca9473ea45967cbae716028"
            ]
          }
        },
        "4c02aaa9a5c24bfa81aab9c14b47ace5": {
          "model_module": "@jupyter-widgets/base",
          "model_name": "LayoutModel",
          "state": {
            "_view_name": "LayoutView",
            "grid_template_rows": null,
            "right": null,
            "justify_content": null,
            "_view_module": "@jupyter-widgets/base",
            "overflow": null,
            "_model_module_version": "1.2.0",
            "_view_count": null,
            "flex_flow": null,
            "width": null,
            "min_width": null,
            "border": null,
            "align_items": null,
            "bottom": null,
            "_model_module": "@jupyter-widgets/base",
            "top": null,
            "grid_column": null,
            "overflow_y": null,
            "overflow_x": null,
            "grid_auto_flow": null,
            "grid_area": null,
            "grid_template_columns": null,
            "flex": null,
            "_model_name": "LayoutModel",
            "justify_items": null,
            "grid_row": null,
            "max_height": null,
            "align_content": null,
            "visibility": null,
            "align_self": null,
            "height": null,
            "min_height": null,
            "padding": null,
            "grid_auto_rows": null,
            "grid_gap": null,
            "max_width": null,
            "order": null,
            "_view_module_version": "1.2.0",
            "grid_template_areas": null,
            "object_position": null,
            "object_fit": null,
            "grid_auto_columns": null,
            "margin": null,
            "display": null,
            "left": null
          }
        },
        "6d19f35abf554294b8c8c16e8cd41e4c": {
          "model_module": "@jupyter-widgets/controls",
          "model_name": "FloatProgressModel",
          "state": {
            "_view_name": "ProgressView",
            "style": "IPY_MODEL_dd0d051da5d946ecaee3e0f68c50c6c3",
            "_dom_classes": [],
            "description": "",
            "_model_name": "FloatProgressModel",
            "bar_style": "success",
            "max": 4542,
            "_view_module": "@jupyter-widgets/controls",
            "_model_module_version": "1.5.0",
            "value": 4542,
            "_view_count": null,
            "_view_module_version": "1.5.0",
            "orientation": "horizontal",
            "min": 0,
            "description_tooltip": null,
            "_model_module": "@jupyter-widgets/controls",
            "layout": "IPY_MODEL_e0184582b79a4126b9d3d666343727b2"
          }
        },
        "c131dae73ca9473ea45967cbae716028": {
          "model_module": "@jupyter-widgets/controls",
          "model_name": "HTMLModel",
          "state": {
            "_view_name": "HTMLView",
            "style": "IPY_MODEL_47b36887eca444a7833d063c821bd4ef",
            "_dom_classes": [],
            "description": "",
            "_model_name": "HTMLModel",
            "placeholder": "​",
            "_view_module": "@jupyter-widgets/controls",
            "_model_module_version": "1.5.0",
            "value": " 5120/? [00:00&lt;00:00, 12167.25it/s]",
            "_view_count": null,
            "_view_module_version": "1.5.0",
            "description_tooltip": null,
            "_model_module": "@jupyter-widgets/controls",
            "layout": "IPY_MODEL_32dd601de99643ab9e28442bf712315d"
          }
        },
        "dd0d051da5d946ecaee3e0f68c50c6c3": {
          "model_module": "@jupyter-widgets/controls",
          "model_name": "ProgressStyleModel",
          "state": {
            "_view_name": "StyleView",
            "_model_name": "ProgressStyleModel",
            "description_width": "initial",
            "_view_module": "@jupyter-widgets/base",
            "_model_module_version": "1.5.0",
            "_view_count": null,
            "_view_module_version": "1.2.0",
            "bar_color": null,
            "_model_module": "@jupyter-widgets/controls"
          }
        },
        "e0184582b79a4126b9d3d666343727b2": {
          "model_module": "@jupyter-widgets/base",
          "model_name": "LayoutModel",
          "state": {
            "_view_name": "LayoutView",
            "grid_template_rows": null,
            "right": null,
            "justify_content": null,
            "_view_module": "@jupyter-widgets/base",
            "overflow": null,
            "_model_module_version": "1.2.0",
            "_view_count": null,
            "flex_flow": null,
            "width": null,
            "min_width": null,
            "border": null,
            "align_items": null,
            "bottom": null,
            "_model_module": "@jupyter-widgets/base",
            "top": null,
            "grid_column": null,
            "overflow_y": null,
            "overflow_x": null,
            "grid_auto_flow": null,
            "grid_area": null,
            "grid_template_columns": null,
            "flex": null,
            "_model_name": "LayoutModel",
            "justify_items": null,
            "grid_row": null,
            "max_height": null,
            "align_content": null,
            "visibility": null,
            "align_self": null,
            "height": null,
            "min_height": null,
            "padding": null,
            "grid_auto_rows": null,
            "grid_gap": null,
            "max_width": null,
            "order": null,
            "_view_module_version": "1.2.0",
            "grid_template_areas": null,
            "object_position": null,
            "object_fit": null,
            "grid_auto_columns": null,
            "margin": null,
            "display": null,
            "left": null
          }
        },
        "47b36887eca444a7833d063c821bd4ef": {
          "model_module": "@jupyter-widgets/controls",
          "model_name": "DescriptionStyleModel",
          "state": {
            "_view_name": "StyleView",
            "_model_name": "DescriptionStyleModel",
            "description_width": "",
            "_view_module": "@jupyter-widgets/base",
            "_model_module_version": "1.5.0",
            "_view_count": null,
            "_view_module_version": "1.2.0",
            "_model_module": "@jupyter-widgets/controls"
          }
        },
        "32dd601de99643ab9e28442bf712315d": {
          "model_module": "@jupyter-widgets/base",
          "model_name": "LayoutModel",
          "state": {
            "_view_name": "LayoutView",
            "grid_template_rows": null,
            "right": null,
            "justify_content": null,
            "_view_module": "@jupyter-widgets/base",
            "overflow": null,
            "_model_module_version": "1.2.0",
            "_view_count": null,
            "flex_flow": null,
            "width": null,
            "min_width": null,
            "border": null,
            "align_items": null,
            "bottom": null,
            "_model_module": "@jupyter-widgets/base",
            "top": null,
            "grid_column": null,
            "overflow_y": null,
            "overflow_x": null,
            "grid_auto_flow": null,
            "grid_area": null,
            "grid_template_columns": null,
            "flex": null,
            "_model_name": "LayoutModel",
            "justify_items": null,
            "grid_row": null,
            "max_height": null,
            "align_content": null,
            "visibility": null,
            "align_self": null,
            "height": null,
            "min_height": null,
            "padding": null,
            "grid_auto_rows": null,
            "grid_gap": null,
            "max_width": null,
            "order": null,
            "_view_module_version": "1.2.0",
            "grid_template_areas": null,
            "object_position": null,
            "object_fit": null,
            "grid_auto_columns": null,
            "margin": null,
            "display": null,
            "left": null
          }
        }
      }
    }
  },
  "cells": [
    {
      "cell_type": "markdown",
      "metadata": {
        "id": "view-in-github",
        "colab_type": "text"
      },
      "source": [
        "<a href=\"https://colab.research.google.com/github/barakbeilin/Adversarial-Learning/blob/main/Adversarial_Learning_assignment_II_.ipynb\" target=\"_parent\"><img src=\"https://colab.research.google.com/assets/colab-badge.svg\" alt=\"Open In Colab\"/></a>"
      ]
    },
    {
      "cell_type": "code",
      "metadata": {
        "id": "qim7Dcv42rT-"
      },
      "source": [
        "from matplotlib import pyplot as plt\n"
      ],
      "execution_count": null,
      "outputs": []
    },
    {
      "cell_type": "code",
      "metadata": {
        "id": "EqtaT1Nat43i"
      },
      "source": [
        "from functools import partial\n",
        "\n",
        "import torch\n",
        "import torchvision\n",
        "import torchvision.transforms as transforms\n",
        "from torchvision import datasets\n",
        "from torch.utils.data import Dataset\n",
        "\n",
        "import torch.nn as nn\n",
        "import torch.nn.functional as F\n",
        "import torch.optim as optim\n"
      ],
      "execution_count": null,
      "outputs": []
    },
    {
      "cell_type": "code",
      "metadata": {
        "id": "rfJeD_6cu6n5"
      },
      "source": [
        "#consts \n",
        "SEED = 555\n",
        "IMAGE_SIZE = 28\n",
        "BATCH = 32\n",
        "train_kwargs = {'batch_size': BATCH}\n",
        "test_kwargs = {'batch_size': BATCH}\n",
        "fgsm_kwargs = {'batch_size': 1}\n"
      ],
      "execution_count": null,
      "outputs": []
    },
    {
      "cell_type": "code",
      "metadata": {
        "id": "cGVSB808t9Oy"
      },
      "source": [
        "use_cuda = torch.cuda.is_available()\n",
        "torch.manual_seed(SEED)\n",
        "\n",
        "device = torch.device(\"cuda\" if use_cuda else \"cpu\")"
      ],
      "execution_count": null,
      "outputs": []
    },
    {
      "cell_type": "code",
      "metadata": {
        "colab": {
          "base_uri": "https://localhost:8080/"
        },
        "id": "EC9gUnBEvPw_",
        "outputId": "708cae3d-743c-43aa-bf63-1a55413cce2c"
      },
      "source": [
        " torch.cuda.is_available()"
      ],
      "execution_count": null,
      "outputs": [
        {
          "output_type": "execute_result",
          "data": {
            "text/plain": [
              "False"
            ]
          },
          "metadata": {
            "tags": []
          },
          "execution_count": 5
        }
      ]
    },
    {
      "cell_type": "code",
      "metadata": {
        "id": "ckMCeuS3u9q6"
      },
      "source": [
        "if use_cuda:\n",
        "  cuda_kwargs = {'num_workers': 1,\n",
        "                  'pin_memory': False,\n",
        "                  'shuffle': True}\n",
        "  train_kwargs.update(cuda_kwargs)\n",
        "  test_kwargs.update(cuda_kwargs)\n",
        "  fgsm_kwargs.update(cuda_kwargs)\n"
      ],
      "execution_count": null,
      "outputs": []
    },
    {
      "cell_type": "code",
      "metadata": {
        "colab": {
          "base_uri": "https://localhost:8080/"
        },
        "id": "MY4DvCn-vJQT",
        "outputId": "f5f17583-3d7f-4cdb-c35b-a6a4a03f06d8"
      },
      "source": [
        "train_kwargs"
      ],
      "execution_count": null,
      "outputs": [
        {
          "output_type": "execute_result",
          "data": {
            "text/plain": [
              "{'batch_size': 32}"
            ]
          },
          "metadata": {
            "tags": []
          },
          "execution_count": 7
        }
      ]
    },
    {
      "cell_type": "code",
      "metadata": {
        "id": "UZCZx2RKvL-Z",
        "colab": {
          "base_uri": "https://localhost:8080/",
          "height": 845,
          "referenced_widgets": [
            "27d36506b70740da8b3624ce92c46dcb",
            "90bdbf32146a4bb39dd7f6dfdaefeb51",
            "d806b3a264d84e1eaa30a83580fc4d82",
            "d25eca6ca7eb4effbf97339970ad5f51",
            "7495e118478b4cf78223a61b4e032921",
            "8d8e16b44e5a4f539fb6a6b34fdcf72b",
            "a460f05237294f42adbd1bb4e40cc667",
            "eafe46cb4d014d86a64f6451fa2e252e",
            "8412d3e2336f4e119a3fe990c8014f66",
            "795336908be04d74a08640d9714afae3",
            "d4a58549f1074f7cb2c2061da25804b7",
            "585a37f0d8df48d297a2bf17e6816c11",
            "52cdde52e9e346359703304f9c0ab782",
            "7095ca2aafa64f2d8d4160406811f980",
            "c0b40d09b5da477397b23e46b93712e6",
            "40b2ff87e82c424c8df8e44ad5119e67",
            "95deebc55fd1417cacdebcc1b100f912",
            "12be0da992564e14965f5fdf13091628",
            "d1e270776b0348ed80e847d4a2fd536f",
            "d745286583984ef39ced370c56af1172",
            "eb973acf988243218066fb3eee571dcd",
            "be95b8b00e044595bcdb1c30c577adbd",
            "9261a929f3cf4cdbb34fbed61ec311b4",
            "754bf76fbf78468ebfd6ebd9d5d22e03",
            "032d5d1e3b3d47be8220935200a76087",
            "4c02aaa9a5c24bfa81aab9c14b47ace5",
            "6d19f35abf554294b8c8c16e8cd41e4c",
            "c131dae73ca9473ea45967cbae716028",
            "dd0d051da5d946ecaee3e0f68c50c6c3",
            "e0184582b79a4126b9d3d666343727b2",
            "47b36887eca444a7833d063c821bd4ef",
            "32dd601de99643ab9e28442bf712315d"
          ]
        },
        "outputId": "55c3c3ce-75b2-424c-b761-e24324861a56"
      },
      "source": [
        "\n",
        "def get_transform():\n",
        "  return transforms.Compose([\n",
        "        transforms.ToTensor(), # transforms image to tensor and moves to into (0,1)\n",
        "     ])\n",
        "def get_datasets(requires_download = False,dst='./data',fgsm_dataset_size = 1000):\n",
        "  transform=get_transform()\n",
        "  dataset1 = datasets.MNIST(dst, train=True, download=requires_download,\n",
        "                       transform=transform)\n",
        "  dataset2 = datasets.MNIST(dst, train=False,transform=transform)\n",
        "  \n",
        " \n",
        "  dataset_fgsm,dataset_test = torch.utils.data.random_split(dataset2, [fgsm_dataset_size, len(dataset2)-fgsm_dataset_size], generator=torch.Generator().manual_seed(42) )\n",
        "  \n",
        "  \n",
        "  return dataset1, dataset_test, dataset_fgsm\n",
        "\n",
        "dataset1, dataset_test, dataset_fgsm = get_datasets(requires_download=True)"
      ],
      "execution_count": null,
      "outputs": [
        {
          "output_type": "stream",
          "text": [
            "Downloading http://yann.lecun.com/exdb/mnist/train-images-idx3-ubyte.gz\n",
            "Failed to download (trying next):\n",
            "HTTP Error 503: Service Unavailable\n",
            "\n",
            "Downloading https://ossci-datasets.s3.amazonaws.com/mnist/train-images-idx3-ubyte.gz\n",
            "Downloading https://ossci-datasets.s3.amazonaws.com/mnist/train-images-idx3-ubyte.gz to ./data/MNIST/raw/train-images-idx3-ubyte.gz\n"
          ],
          "name": "stdout"
        },
        {
          "output_type": "display_data",
          "data": {
            "application/vnd.jupyter.widget-view+json": {
              "model_id": "27d36506b70740da8b3624ce92c46dcb",
              "version_minor": 0,
              "version_major": 2
            },
            "text/plain": [
              "HBox(children=(FloatProgress(value=0.0, max=9912422.0), HTML(value='')))"
            ]
          },
          "metadata": {
            "tags": []
          }
        },
        {
          "output_type": "stream",
          "text": [
            "\n",
            "Extracting ./data/MNIST/raw/train-images-idx3-ubyte.gz to ./data/MNIST/raw\n",
            "\n",
            "Downloading http://yann.lecun.com/exdb/mnist/train-labels-idx1-ubyte.gz\n",
            "Failed to download (trying next):\n",
            "HTTP Error 503: Service Unavailable\n",
            "\n",
            "Downloading https://ossci-datasets.s3.amazonaws.com/mnist/train-labels-idx1-ubyte.gz\n",
            "Downloading https://ossci-datasets.s3.amazonaws.com/mnist/train-labels-idx1-ubyte.gz to ./data/MNIST/raw/train-labels-idx1-ubyte.gz\n"
          ],
          "name": "stdout"
        },
        {
          "output_type": "display_data",
          "data": {
            "application/vnd.jupyter.widget-view+json": {
              "model_id": "8412d3e2336f4e119a3fe990c8014f66",
              "version_minor": 0,
              "version_major": 2
            },
            "text/plain": [
              "HBox(children=(FloatProgress(value=0.0, max=28881.0), HTML(value='')))"
            ]
          },
          "metadata": {
            "tags": []
          }
        },
        {
          "output_type": "stream",
          "text": [
            "\n",
            "Extracting ./data/MNIST/raw/train-labels-idx1-ubyte.gz to ./data/MNIST/raw\n",
            "\n",
            "Downloading http://yann.lecun.com/exdb/mnist/t10k-images-idx3-ubyte.gz\n",
            "Failed to download (trying next):\n",
            "HTTP Error 503: Service Unavailable\n",
            "\n",
            "Downloading https://ossci-datasets.s3.amazonaws.com/mnist/t10k-images-idx3-ubyte.gz\n",
            "Downloading https://ossci-datasets.s3.amazonaws.com/mnist/t10k-images-idx3-ubyte.gz to ./data/MNIST/raw/t10k-images-idx3-ubyte.gz\n"
          ],
          "name": "stdout"
        },
        {
          "output_type": "display_data",
          "data": {
            "application/vnd.jupyter.widget-view+json": {
              "model_id": "95deebc55fd1417cacdebcc1b100f912",
              "version_minor": 0,
              "version_major": 2
            },
            "text/plain": [
              "HBox(children=(FloatProgress(value=0.0, max=1648877.0), HTML(value='')))"
            ]
          },
          "metadata": {
            "tags": []
          }
        },
        {
          "output_type": "stream",
          "text": [
            "\n",
            "Extracting ./data/MNIST/raw/t10k-images-idx3-ubyte.gz to ./data/MNIST/raw\n",
            "\n",
            "Downloading http://yann.lecun.com/exdb/mnist/t10k-labels-idx1-ubyte.gz\n",
            "Failed to download (trying next):\n",
            "HTTP Error 503: Service Unavailable\n",
            "\n",
            "Downloading https://ossci-datasets.s3.amazonaws.com/mnist/t10k-labels-idx1-ubyte.gz\n",
            "Downloading https://ossci-datasets.s3.amazonaws.com/mnist/t10k-labels-idx1-ubyte.gz to ./data/MNIST/raw/t10k-labels-idx1-ubyte.gz\n"
          ],
          "name": "stdout"
        },
        {
          "output_type": "display_data",
          "data": {
            "application/vnd.jupyter.widget-view+json": {
              "model_id": "032d5d1e3b3d47be8220935200a76087",
              "version_minor": 0,
              "version_major": 2
            },
            "text/plain": [
              "HBox(children=(FloatProgress(value=0.0, max=4542.0), HTML(value='')))"
            ]
          },
          "metadata": {
            "tags": []
          }
        },
        {
          "output_type": "stream",
          "text": [
            "\n",
            "Extracting ./data/MNIST/raw/t10k-labels-idx1-ubyte.gz to ./data/MNIST/raw\n",
            "\n",
            "Processing...\n",
            "Done!\n"
          ],
          "name": "stdout"
        },
        {
          "output_type": "stream",
          "text": [
            "/usr/local/lib/python3.7/dist-packages/torchvision/datasets/mnist.py:502: UserWarning: The given NumPy array is not writeable, and PyTorch does not support non-writeable tensors. This means you can write to the underlying (supposedly non-writeable) NumPy array using the tensor. You may want to copy the array to protect its data or make it writeable before converting it to a tensor. This type of warning will be suppressed for the rest of this program. (Triggered internally at  /pytorch/torch/csrc/utils/tensor_numpy.cpp:143.)\n",
            "  return torch.from_numpy(parsed.astype(m[2], copy=False)).view(*s)\n"
          ],
          "name": "stderr"
        }
      ]
    },
    {
      "cell_type": "code",
      "metadata": {
        "colab": {
          "base_uri": "https://localhost:8080/",
          "height": 954
        },
        "id": "_loTKpCa6REe",
        "outputId": "616ebfa6-30a5-42fc-b660-2a40f6269f8f"
      },
      "source": [
        "def print_dataset_sample(is_train,dst='./data'):\n",
        "  dataset = datasets.MNIST(dst, train=is_train, download=False,\n",
        "                       transform=get_transform())\n",
        "  plt.figure(figsize=(15, 15))\n",
        "\n",
        "  inds = torch.randint(high=len(dataset),size=(25,))\n",
        "\n",
        "  for i,ind in enumerate(inds):\n",
        "      plt.subplot(5, 5, i + 1)\n",
        "      plt.imshow(dataset[ind][0].cpu().reshape(IMAGE_SIZE, IMAGE_SIZE))\n",
        "      plt.title(dataset[ind][1])\n",
        "      plt.axis('off')\n",
        "  dataset_name = 'train' if is_train else 'test'\n",
        "  plt.suptitle('MNIST ' + dataset_name)\n",
        "  plt.show()\n",
        "print_dataset_sample(True)"
      ],
      "execution_count": null,
      "outputs": [
        {
          "output_type": "display_data",
          "data": {
            "image/png": "[encoded data removed]",
            "text/plain": [
              "<Figure size 1080x1080 with 25 Axes>"
            ]
          },
          "metadata": {
            "tags": [],
            "needs_background": "light"
          }
        }
      ]
    },
    {
      "cell_type": "code",
      "metadata": {
        "id": "oFMUklpK1TMp"
      },
      "source": [
        "class Trainer:\n",
        "  def __init__(self, model,train_kwargs,test_kwargs,fgsm_kwargs,  epochs=10, learning_scheme='Adam'):\n",
        "    self.model = model.to(device)\n",
        "    self.epochs = epochs\n",
        "    self.criterion = nn.CrossEntropyLoss()\n",
        "    self.optimizer = optim.Adam(self.model.parameters(), lr=1e-3)\n",
        "\n",
        "    self.dataset_train, self.dataset_test, self.dataset_fgsm = get_datasets(requires_download=True)\n",
        "    \n",
        "    self.train_dataloader = torch.utils.data.DataLoader(self.dataset_train,**train_kwargs)\n",
        "    self.test_dataloader = torch.utils.data.DataLoader( self.dataset_test, **test_kwargs)\n",
        "    self.fgsm_input_dataloader = torch.utils.data.DataLoader( self.dataset_fgsm, **fgsm_kwargs)\n",
        "\n",
        "    \n",
        "  def train(self):\n",
        "    for epoch in range(1, self.epochs + 1):\n",
        "      self._train_single_epoch()\n",
        "      train_accuracy = self.evaluate_accuracy_on_dataset(\n",
        "          self.train_dataloader)\n",
        "      test_accuracy = self.evaluate_accuracy_on_dataset(\n",
        "          self.test_dataloader)\n",
        "      print(f\"Epoch # {epoch} : Train accuracy: {train_accuracy:.3f}[%],\"\n",
        "            f\" Test accuracy: {test_accuracy:.3f}[%]\")   \n",
        "\n",
        "\n",
        "  def _train_single_epoch(self):\n",
        "      self.model.train()\n",
        "      for batch in self.train_dataloader:\n",
        "          inputs, labels = self._get_images_and_labels_to_device(batch)\n",
        "          self.optimizer.zero_grad()\n",
        "\n",
        "          outputs = self.model(inputs)\n",
        "          loss = self.criterion(outputs, labels)\n",
        "          loss.backward()\n",
        "          self.optimizer.step()\n",
        "\n",
        "  def _get_images_and_labels_to_device(self, batch):\n",
        "  \n",
        "    inputs, labels = batch[0].to(device), batch[1].to(device)\n",
        "    return inputs, labels\n",
        "\n",
        "  def evaluate_accuracy_on_dataset(self, dataloader):\n",
        "    correct,total = 0,0\n",
        "      \n",
        "    self.model.eval()\n",
        "    with torch.no_grad():\n",
        "      for batch in dataloader:\n",
        "        inputs, labels = self._get_images_and_labels_to_device(batch)\n",
        "        outputs = self.model(inputs)\n",
        "\n",
        "        _, predicted = torch.max(outputs.data, 1)\n",
        "        total += labels.size(0)\n",
        "        correct += (predicted == labels).sum().item()\n",
        "    accuracy = 100 * correct / total\n",
        "    return accuracy\n"
      ],
      "execution_count": null,
      "outputs": []
    },
    {
      "cell_type": "code",
      "metadata": {
        "id": "nAbcsnOq3b9I"
      },
      "source": [
        "\n",
        "\n",
        "class Net(nn.Module):\n",
        "  def __init__(self):\n",
        "    super().__init__()\n",
        "    self.conv1 = nn.Conv2d(1, 6, 5)\n",
        "    self.pool = nn.MaxPool2d(2, 2)\n",
        "    self.conv2 = nn.Conv2d(6, 16, 5)\n",
        "    self.fc1 = nn.Linear(16 * 4 * 4, 120)\n",
        "    self.fc2 = nn.Linear(120, 84)\n",
        "    self.fc3 = nn.Linear(84, 10)\n",
        "\n",
        "  def forward(self, x):\n",
        "    try:\n",
        "      x = self.pool(F.relu(self.conv1(x)))\n",
        "      x = self.pool(F.relu(self.conv2(x)))\n",
        "      x = torch.flatten(x, 1) # flatten all dimensions except batch\n",
        "      x = F.relu(self.fc1(x))\n",
        "      x = F.relu(self.fc2(x))\n",
        "      x = self.fc3(x)\n",
        "    except Exception as e:\n",
        "      import pdb\n",
        "      pdb.set_trace()\n",
        "      print(x.shape)\n",
        "    return x\n",
        "\n",
        "\n",
        "net = Net()"
      ],
      "execution_count": null,
      "outputs": []
    },
    {
      "cell_type": "code",
      "metadata": {
        "colab": {
          "base_uri": "https://localhost:8080/"
        },
        "id": "GezwvkqZ8omn",
        "outputId": "bd7c3dc1-3ffd-403f-bd31-7037c1ed0ecb"
      },
      "source": [
        "net = Net()\n",
        "fc_trainer = Trainer(net, epochs=1, train_kwargs=train_kwargs,test_kwargs=test_kwargs,fgsm_kwargs=fgsm_kwargs)\n",
        "fc_trainer.train()"
      ],
      "execution_count": null,
      "outputs": [
        {
          "output_type": "stream",
          "text": [
            "Epoch # 1 : Train accuracy: 96.333[%], Test accuracy: 96.989[%]\n"
          ],
          "name": "stdout"
        }
      ]
    },
    {
      "cell_type": "code",
      "metadata": {
        "id": "mPaSBtb0CecE"
      },
      "source": [
        "def fgsm_attack(image,target, epsilon, model,device):\n",
        "  image.requires_grad = True\n",
        "  model.eval()\n",
        "  output = model(image)\n",
        "  # Calculate the loss\n",
        "  loss = F.cross_entropy(output, target)# F.nll_loss(output, target)\n",
        "  # Zero all existing gradients\n",
        "  model.zero_grad()\n",
        "  # Calculate gradients of model in backward pass\n",
        "  loss.backward()\n",
        "  # Collect datagrad\n",
        "  data_grad = image.grad.data\n",
        "  # Call FGSM Attack\n",
        "  sign_data_grad = data_grad.sign()\n",
        "  # Create the perturbed image by adjusting each pixel of the input image\n",
        "  perturbed_image = image + epsilon*sign_data_grad\n",
        "  # Adding clipping to maintain [0,1] range\n",
        "  perturbed_image = torch.clamp(perturbed_image, 0, 1)\n",
        "  # Return the perturbed image\n",
        "\n",
        "  return perturbed_image\n",
        "\n",
        "def test_attack(data_loader,model,epsilon,device):\n",
        "  # Accuracy counter\n",
        "  correct = 0\n",
        "  adv_examples = []\n",
        "\n",
        "  # Loop over all examples in test set\n",
        "  for data, target in data_loader:\n",
        "    \n",
        "      # Send the data and label to the device\n",
        "    data, target = data.to(device), target.to(device)\n",
        "\n",
        "    # Set requires_grad attribute of tensor. Important for Attack\n",
        "    \n",
        "\n",
        "    # Forward pass the data through the model\n",
        "    model.eval()\n",
        "    output = model(data)\n",
        "    init_pred = output.max(1, keepdim=True)[1] # get the index of the max log-probability\n",
        "\n",
        "    # If the initial prediction is wrong, dont bother attacking, just move on\n",
        "    if init_pred.item() != target.item():\n",
        "      continue\n",
        "\n",
        "    perturbed_data = fgsm_attack(data,target, epsilon, model,device)\n",
        "    # Re-classify the perturbed image\n",
        "    output = model(perturbed_data)\n",
        "\n",
        "    # Check for success\n",
        "    final_pred = output.max(1, keepdim=True)[1] # get the index of the max log-probability\n",
        "    if final_pred.item() == target.item():\n",
        "      correct += 1\n",
        "    else:\n",
        "      # Save some adv examples for visualization later\n",
        "      if len(adv_examples) < 5:\n",
        "        adv_ex = perturbed_data.squeeze().detach().cpu().numpy()\n",
        "        adv_examples.append( (init_pred.item(), final_pred.item(), adv_ex) )\n",
        "\n",
        "  # Calculate final accuracy for this epsilon\n",
        "  final_acc = correct/float(len(data_loader))\n",
        "  print(\"Epsilon: {}\\tTest Accuracy = {} / {} = {}\".format(epsilon, correct, len(data_loader), final_acc))\n",
        "\n",
        "  # Return the accuracy and an adversarial example\n",
        "  return final_acc, adv_examples"
      ],
      "execution_count": null,
      "outputs": []
    },
    {
      "cell_type": "code",
      "metadata": {
        "colab": {
          "base_uri": "https://localhost:8080/"
        },
        "id": "jqTFMc4dEdNA",
        "outputId": "f23eabb0-4cfd-4351-f541-880467486421"
      },
      "source": [
        "fgsm_loader = torch.utils.data.DataLoader( dataset_fgsm, **fgsm_kwargs)\n",
        "\n",
        "final_acc, adv_examples = test_attack(fgsm_loader, net,0.3, device)"
      ],
      "execution_count": null,
      "outputs": [
        {
          "output_type": "stream",
          "text": [
            "Epsilon: 0.3\tTest Accuracy = 39 / 1000 = 0.039\n"
          ],
          "name": "stdout"
        }
      ]
    },
    {
      "cell_type": "code",
      "metadata": {
        "colab": {
          "base_uri": "https://localhost:8080/",
          "height": 449
        },
        "id": "c7L0jL85tqTr",
        "outputId": "60a7eccf-3231-4e78-e598-f40ae822a976"
      },
      "source": [
        "res  = []\n",
        "epsilons =torch.linspace(start=0,end=0.5,steps=10)\n",
        "for epsilon in epsilons:\n",
        "  final_acc, adv_examples = test_attack(fgsm_loader, net,epsilon, device)\n",
        "  res.append(final_acc)\n",
        "plt.plot(epsilons, res)\n",
        "plt.xlabel('epsilon')\n",
        "plt.ylabel('Model Accuracy')\n",
        "plt.show()"
      ],
      "execution_count": null,
      "outputs": [
        {
          "output_type": "stream",
          "text": [
            "Epsilon: 0.0\tTest Accuracy = 986 / 1000 = 0.986\n",
            "Epsilon: 0.0555555559694767\tTest Accuracy = 914 / 1000 = 0.914\n",
            "Epsilon: 0.1111111119389534\tTest Accuracy = 740 / 1000 = 0.74\n",
            "Epsilon: 0.1666666716337204\tTest Accuracy = 477 / 1000 = 0.477\n",
            "Epsilon: 0.2222222238779068\tTest Accuracy = 230 / 1000 = 0.23\n",
            "Epsilon: 0.2777777910232544\tTest Accuracy = 86 / 1000 = 0.086\n",
            "Epsilon: 0.3333333432674408\tTest Accuracy = 23 / 1000 = 0.023\n",
            "Epsilon: 0.3888888955116272\tTest Accuracy = 8 / 1000 = 0.008\n",
            "Epsilon: 0.4444444477558136\tTest Accuracy = 6 / 1000 = 0.006\n",
            "Epsilon: 0.5\tTest Accuracy = 5 / 1000 = 0.005\n"
          ],
          "name": "stdout"
        },
        {
          "output_type": "display_data",
          "data": {
            "image/png": "[encoded data removed]",
            "text/plain": [
              "<Figure size 432x288 with 1 Axes>"
            ]
          },
          "metadata": {
            "tags": [],
            "needs_background": "light"
          }
        }
      ]
    },
    {
      "cell_type": "code",
      "metadata": {
        "colab": {
          "base_uri": "https://localhost:8080/",
          "height": 494
        },
        "id": "_SC6j92FN-oW",
        "outputId": "3f0763ab-a452-4040-fd02-fb8a032fb3d3"
      },
      "source": [
        "\n",
        "plt.figure(figsize=(8,10))\n",
        "orig,adv,ex = adv_examples[0]\n",
        "plt.imshow(ex, cmap=\"gray\")\n",
        "plt.show()\n"
      ],
      "execution_count": null,
      "outputs": [
        {
          "output_type": "display_data",
          "data": {
            "image/png": "[encoded data removed]",
            "text/plain": [
              "<Figure size 576x720 with 1 Axes>"
            ]
          },
          "metadata": {
            "tags": [],
            "needs_background": "light"
          }
        }
      ]
    },
    {
      "cell_type": "code",
      "metadata": {
        "id": "Qhqxw7aJoprw"
      },
      "source": [
        "class FGSMDataset(Dataset):\n",
        "  \"\"\"FGSM attacked dataset.\"\"\"\n",
        "  \n",
        "  def __init__(self, fgsm_input_dataloader, fgsm_attack):\n",
        "    \"\"\"\n",
        "    Args:\n",
        "        csv_file (string): Path to the csv file with annotations.\n",
        "        root_dir (string): Directory with all the images.\n",
        "        transform (callable, optional): Optional transform to be applied\n",
        "            on a sample.\n",
        "    \"\"\"\n",
        "    self._input_dataloader = fgsm_input_dataloader\n",
        "    self._input_dataloader_iterator = iter(fgsm_input_dataloader)\n",
        "    self.fgsm_attack = fgsm_attack\n",
        "    \n",
        "\n",
        "  def __len__(self):\n",
        "    return len(self._input_dataloader) # *self._input_dataloader.batch_size\n",
        "\n",
        "  def __getitem__(self, idx):\n",
        " \n",
        "    image, label = next(self._input_dataloader_iterator)\n",
        "    return self.fgsm_attack(image=image,target=label)[0], label[0]"
      ],
      "execution_count": null,
      "outputs": []
    },
    {
      "cell_type": "code",
      "metadata": {
        "colab": {
          "base_uri": "https://localhost:8080/"
        },
        "id": "3CnLgWb3EN2M",
        "outputId": "4d0b51ae-e170-4287-975a-58c130c48c19"
      },
      "source": [
        "fgsm_guard_trainer = FGSMAttackTrainer(net, epochs=1, train_kwargs=train_kwargs,test_kwargs=test_kwargs,fgsm_kwargs=fgsm_kwargs,device=device)\n",
        "\n",
        "\n",
        "idl =iter(fgsm_guard_trainer.new_train_dataloader)\n",
        "a,b = next(idl)\n",
        "a.shape"
      ],
      "execution_count": null,
      "outputs": [
        {
          "output_type": "execute_result",
          "data": {
            "text/plain": [
              "torch.Size([1, 1, 28, 28])"
            ]
          },
          "metadata": {
            "tags": []
          },
          "execution_count": 67
        }
      ]
    },
    {
      "cell_type": "code",
      "metadata": {
        "id": "TOsQUNb9GU_h"
      },
      "source": [
        "import copy\n",
        "\n",
        "class FGSMAttackTrainer(Trainer):\n",
        "  def __init__(self, model,train_kwargs,test_kwargs,fgsm_kwargs, device, epochs=10, learning_scheme='Adam'):\n",
        "    super().__init__ (model,train_kwargs,test_kwargs,fgsm_kwargs,  epochs, learning_scheme)\n",
        "    self.fgsm_attack_dataset = FGSMDataset(\n",
        "        fgsm_input_dataloader = self.fgsm_input_dataloader,\n",
        "        fgsm_attack = partial(fgsm_attack, epsilon=0.3, model=copy.deepcopy(self.model),device=device))\n",
        "    self.fgsm_train_combined_dataset = torch.utils.data.ConcatDataset([self.fgsm_attack_dataset,\n",
        "                                                                       self.dataset_train])\n",
        "\n",
        "    self.new_train_dataloader = torch.utils.data.DataLoader(\n",
        "        self.fgsm_train_combined_dataset, **fgsm_kwargs)\n",
        "    \n",
        "  def _train_single_epoch(self):\n",
        "    \n",
        "    self.model.train()\n",
        "    for batch in self.new_train_dataloader:\n",
        "      inputs, labels = self._get_images_and_labels_to_device(batch)\n",
        "      self.optimizer.zero_grad()\n",
        "\n",
        "      outputs = self.model(inputs)\n",
        "      loss = self.criterion(outputs, labels)\n",
        "      loss.backward()\n",
        "      self.optimizer.step()"
      ],
      "execution_count": null,
      "outputs": []
    },
    {
      "cell_type": "code",
      "metadata": {
        "id": "yzKnJHgMNSZ_"
      },
      "source": [
        ""
      ],
      "execution_count": null,
      "outputs": []
    },
    {
      "cell_type": "code",
      "metadata": {
        "colab": {
          "base_uri": "https://localhost:8080/"
        },
        "id": "RmHBpXDposLf",
        "outputId": "e1cf1568-ed62-40ff-e5ac-40ba3d2142af"
      },
      "source": [
        "net = Net()\n",
        "fc_trainer = Trainer(net, epochs=1, train_kwargs=train_kwargs,test_kwargs=test_kwargs,fgsm_kwargs=fgsm_kwargs)\n",
        "fc_trainer.train()\n",
        "\n"
      ],
      "execution_count": null,
      "outputs": [
        {
          "output_type": "stream",
          "text": [
            "Epoch # 1 : Train accuracy: 96.417[%], Test accuracy: 96.533[%]\n"
          ],
          "name": "stdout"
        }
      ]
    },
    {
      "cell_type": "code",
      "metadata": {
        "id": "vlBZbK3vNpJG"
      },
      "source": [
        "test_loader = torch.utils.data.DataLoader( dataset_test, **fgsm_kwargs)\n"
      ],
      "execution_count": null,
      "outputs": []
    },
    {
      "cell_type": "code",
      "metadata": {
        "colab": {
          "base_uri": "https://localhost:8080/",
          "height": 366
        },
        "id": "QoTY-5kzNHAa",
        "outputId": "5c23f83c-da56-4287-9153-07a9c3892014"
      },
      "source": [
        "res  = []\n",
        "epsilons =torch.linspace(start=0,end=0.5,steps=5)\n",
        "for epsilon in epsilons:\n",
        "  final_acc, adv_examples = test_attack(test_loader, net,epsilon, device)\n",
        "  res.append(final_acc)\n",
        "plt.plot(epsilons, res)\n",
        "plt.xlabel('epsilon')\n",
        "plt.ylabel('Model Accuracy')\n",
        "plt.show()"
      ],
      "execution_count": null,
      "outputs": [
        {
          "output_type": "stream",
          "text": [
            "Epsilon: 0.0\tTest Accuracy = 8688 / 9000 = 0.9653333333333334\n",
            "Epsilon: 0.125\tTest Accuracy = 5642 / 9000 = 0.6268888888888889\n",
            "Epsilon: 0.25\tTest Accuracy = 970 / 9000 = 0.10777777777777778\n",
            "Epsilon: 0.375\tTest Accuracy = 44 / 9000 = 0.004888888888888889\n",
            "Epsilon: 0.5\tTest Accuracy = 8 / 9000 = 0.0008888888888888889\n"
          ],
          "name": "stdout"
        },
        {
          "output_type": "display_data",
          "data": {
            "image/png": "[encoded data removed]",
            "text/plain": [
              "<Figure size 432x288 with 1 Axes>"
            ]
          },
          "metadata": {
            "tags": [],
            "needs_background": "light"
          }
        }
      ]
    },
    {
      "cell_type": "code",
      "metadata": {
        "colab": {
          "base_uri": "https://localhost:8080/"
        },
        "id": "uBk5WE6sWJyI",
        "outputId": "9eede420-8a3b-4456-8efc-86d70208a242"
      },
      "source": [
        "fgsm_guard_trainer = FGSMAttackTrainer(net, epochs=1, train_kwargs=train_kwargs,test_kwargs=test_kwargs,fgsm_kwargs=fgsm_kwargs,device=device)\n",
        "fgsm_guard_trainer.train()"
      ],
      "execution_count": null,
      "outputs": [
        {
          "output_type": "stream",
          "text": [
            "Epoch # 1 : Train accuracy: 96.932[%], Test accuracy: 97.133[%]\n"
          ],
          "name": "stdout"
        }
      ]
    },
    {
      "cell_type": "code",
      "metadata": {
        "colab": {
          "base_uri": "https://localhost:8080/",
          "height": 365
        },
        "id": "tHniDCmvLMso",
        "outputId": "3503f6d1-ff36-4ec8-881a-ceaf42c272a9"
      },
      "source": [
        "res  = []\n",
        "epsilons =torch.linspace(start=0,end=0.5,steps=5)\n",
        "for epsilon in epsilons:\n",
        "  final_acc, adv_examples = test_attack(test_loader, net,epsilon, device)\n",
        "  res.append(final_acc)\n",
        "plt.plot(epsilons, res)\n",
        "plt.xlabel('epsilon')\n",
        "plt.ylabel('Model Accuracy')\n",
        "plt.show()"
      ],
      "execution_count": null,
      "outputs": [
        {
          "output_type": "stream",
          "text": [
            "Epsilon: 0.0\tTest Accuracy = 8742 / 9000 = 0.9713333333333334\n",
            "Epsilon: 0.125\tTest Accuracy = 5406 / 9000 = 0.6006666666666667\n",
            "Epsilon: 0.25\tTest Accuracy = 2522 / 9000 = 0.2802222222222222\n",
            "Epsilon: 0.375\tTest Accuracy = 1311 / 9000 = 0.14566666666666667\n",
            "Epsilon: 0.5\tTest Accuracy = 878 / 9000 = 0.09755555555555556\n"
          ],
          "name": "stdout"
        },
        {
          "output_type": "display_data",
          "data": {
            "image/png": "[encoded data removed]",
            "text/plain": [
              "<Figure size 432x288 with 1 Axes>"
            ]
          },
          "metadata": {
            "tags": [],
            "needs_background": "light"
          }
        }
      ]
    },
    {
      "cell_type": "code",
      "metadata": {
        "colab": {
          "base_uri": "https://localhost:8080/"
        },
        "id": "fRGC6lneMfdv",
        "outputId": "6e4d8512-36b8-42c1-b3aa-afbff2cbdf72"
      },
      "source": [
        "fgsm_guard_trainer = FGSMAttackTrainer(net, epochs=1, train_kwargs=train_kwargs,test_kwargs=test_kwargs,fgsm_kwargs=fgsm_kwargs,device=device)\n",
        "fgsm_guard_trainer.train()"
      ],
      "execution_count": null,
      "outputs": [
        {
          "output_type": "stream",
          "text": [
            "Epoch # 1 : Train accuracy: 96.737[%], Test accuracy: 96.989[%]\n"
          ],
          "name": "stdout"
        }
      ]
    },
    {
      "cell_type": "code",
      "metadata": {
        "colab": {
          "base_uri": "https://localhost:8080/",
          "height": 365
        },
        "id": "gm7P8xxhMvUp",
        "outputId": "fa39a707-29c9-41ce-a900-a6c76837d463"
      },
      "source": [
        "res  = []\n",
        "epsilons =torch.linspace(start=0,end=0.5,steps=5)\n",
        "for epsilon in epsilons:\n",
        "  final_acc, adv_examples = test_attack(test_loader, net,epsilon, device)\n",
        "  res.append(final_acc)\n",
        "plt.plot(epsilons, res)\n",
        "plt.xlabel('epsilon')\n",
        "plt.ylabel('Model Accuracy')\n",
        "plt.show()"
      ],
      "execution_count": null,
      "outputs": [
        {
          "output_type": "stream",
          "text": [
            "Epsilon: 0.0\tTest Accuracy = 8729 / 9000 = 0.9698888888888889\n",
            "Epsilon: 0.125\tTest Accuracy = 3243 / 9000 = 0.36033333333333334\n",
            "Epsilon: 0.25\tTest Accuracy = 1484 / 9000 = 0.1648888888888889\n",
            "Epsilon: 0.375\tTest Accuracy = 1094 / 9000 = 0.12155555555555556\n",
            "Epsilon: 0.5\tTest Accuracy = 963 / 9000 = 0.107\n"
          ],
          "name": "stdout"
        },
        {
          "output_type": "display_data",
          "data": {
            "image/png": "[encoded data removed]",
            "text/plain": [
              "<Figure size 432x288 with 1 Axes>"
            ]
          },
          "metadata": {
            "tags": [],
            "needs_background": "light"
          }
        }
      ]
    },
    {
      "cell_type": "code",
      "metadata": {
        "colab": {
          "base_uri": "https://localhost:8080/"
        },
        "id": "1T0Kjm6kNnYI",
        "outputId": "abe79c94-4ddb-4119-fbb7-37aec7323c12"
      },
      "source": [
        "fgsm_guard_trainer = FGSMAttackTrainer(net, epochs=1, train_kwargs=train_kwargs,test_kwargs=test_kwargs,fgsm_kwargs=fgsm_kwargs,device=device)\n",
        "fgsm_guard_trainer.train()"
      ],
      "execution_count": null,
      "outputs": [
        {
          "output_type": "stream",
          "text": [
            "Epoch # 1 : Train accuracy: 97.248[%], Test accuracy: 97.367[%]\n"
          ],
          "name": "stdout"
        }
      ]
    },
    {
      "cell_type": "code",
      "metadata": {
        "colab": {
          "base_uri": "https://localhost:8080/",
          "height": 365
        },
        "id": "VoVnJWGQQxw5",
        "outputId": "0d2345bd-da5f-49f1-98f8-1825705729f4"
      },
      "source": [
        "res  = []\n",
        "epsilons =torch.linspace(start=0,end=0.5,steps=5)\n",
        "for epsilon in epsilons:\n",
        "  final_acc, adv_examples = test_attack(test_loader, net,epsilon, device)\n",
        "  res.append(final_acc)\n",
        "plt.plot(epsilons, res)\n",
        "plt.xlabel('epsilon')\n",
        "plt.ylabel('Model Accuracy')\n",
        "plt.show()"
      ],
      "execution_count": null,
      "outputs": [
        {
          "output_type": "stream",
          "text": [
            "Epsilon: 0.0\tTest Accuracy = 8763 / 9000 = 0.9736666666666667\n",
            "Epsilon: 0.125\tTest Accuracy = 3598 / 9000 = 0.3997777777777778\n",
            "Epsilon: 0.25\tTest Accuracy = 1818 / 9000 = 0.202\n",
            "Epsilon: 0.375\tTest Accuracy = 1406 / 9000 = 0.15622222222222223\n",
            "Epsilon: 0.5\tTest Accuracy = 1171 / 9000 = 0.13011111111111112\n"
          ],
          "name": "stdout"
        },
        {
          "output_type": "display_data",
          "data": {
            "image/png": "[encoded data removed]",
            "text/plain": [
              "<Figure size 432x288 with 1 Axes>"
            ]
          },
          "metadata": {
            "tags": [],
            "needs_background": "light"
          }
        }
      ]
    },
    {
      "cell_type": "code",
      "metadata": {
        "colab": {
          "base_uri": "https://localhost:8080/"
        },
        "id": "N52Zt_5nQ0cJ",
        "outputId": "a252f5ff-7444-4904-c158-070ce845bd7f"
      },
      "source": [
        "fgsm_guard_trainer = FGSMAttackTrainer(net, epochs=1, train_kwargs=train_kwargs,test_kwargs=test_kwargs,fgsm_kwargs=fgsm_kwargs,device=device)\n",
        "fgsm_guard_trainer.train()"
      ],
      "execution_count": null,
      "outputs": [
        {
          "output_type": "stream",
          "text": [
            "Epoch # 1 : Train accuracy: 96.660[%], Test accuracy: 96.711[%]\n"
          ],
          "name": "stdout"
        }
      ]
    },
    {
      "cell_type": "code",
      "metadata": {
        "colab": {
          "base_uri": "https://localhost:8080/",
          "height": 367
        },
        "id": "5jfHgJnDQ08U",
        "outputId": "07fd05a4-1929-45c4-d1d7-98a5e00ef285"
      },
      "source": [
        "res  = []\n",
        "epsilons =torch.linspace(start=0,end=0.5,steps=5)\n",
        "for epsilon in epsilons:\n",
        "  final_acc, adv_examples = test_attack(test_loader, net,epsilon, device)\n",
        "  res.append(final_acc)\n",
        "plt.plot(epsilons, res)\n",
        "plt.xlabel('epsilon')\n",
        "plt.ylabel('Model Accuracy')\n",
        "plt.show()"
      ],
      "execution_count": null,
      "outputs": [
        {
          "output_type": "stream",
          "text": [
            "Epsilon: 0.0\tTest Accuracy = 8704 / 9000 = 0.9671111111111111\n",
            "Epsilon: 0.125\tTest Accuracy = 5696 / 9000 = 0.6328888888888888\n",
            "Epsilon: 0.25\tTest Accuracy = 3832 / 9000 = 0.42577777777777776\n",
            "Epsilon: 0.375\tTest Accuracy = 2315 / 9000 = 0.25722222222222224\n",
            "Epsilon: 0.5\tTest Accuracy = 1582 / 9000 = 0.17577777777777778\n"
          ],
          "name": "stdout"
        },
        {
          "output_type": "display_data",
          "data": {
            "image/png": "[encoded data removed]",
            "text/plain": [
              "<Figure size 432x288 with 1 Axes>"
            ]
          },
          "metadata": {
            "tags": [],
            "needs_background": "light"
          }
        }
      ]
    },
    {
      "cell_type": "code",
      "metadata": {
        "id": "nhovnfFLRHka"
      },
      "source": [
        ""
      ],
      "execution_count": null,
      "outputs": []
    }
  ]
}